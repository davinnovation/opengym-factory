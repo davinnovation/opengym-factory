{
 "cells": [
  {
   "cell_type": "markdown",
   "metadata": {},
   "source": [
    "# Generate Job"
   ]
  },
  {
   "cell_type": "code",
   "execution_count": 1,
   "metadata": {
    "collapsed": true
   },
   "outputs": [],
   "source": [
    "RATE = 1.3"
   ]
  },
  {
   "cell_type": "code",
   "execution_count": 2,
   "metadata": {
    "collapsed": true
   },
   "outputs": [],
   "source": [
    "EXAMPLE_JOB = (\n",
    "    {\n",
    "        \"name\" : 'eagle',\n",
    "        \"job\" : [{'3DP': 300}] # single job\n",
    "    },\n",
    "    {\n",
    "        \"name\" : 'box',\n",
    "        \"job\" : ([{'3DP': 300}], [{'3DP': 300}]) # parallel job\n",
    "    },\n",
    "    {\n",
    "        \"name\" : 'clock',\n",
    "        \"job\" : [ # job shop\n",
    "            (\n",
    "                (\n",
    "                    [{'3DP': 200},{'CNC':10}],\n",
    "                    [{'3DP': 200},{'CNC':5}]\n",
    "                ),\n",
    "                [{'3DP': 100}]\n",
    "            ),\n",
    "            {'CNC' : 10},\n",
    "            {'Vapor' : 5}\n",
    "        ]\n",
    "    }\n",
    ")"
   ]
  },
  {
   "cell_type": "code",
   "execution_count": 3,
   "metadata": {
    "collapsed": true
   },
   "outputs": [],
   "source": [
    "import random"
   ]
  },
  {
   "cell_type": "code",
   "execution_count": 4,
   "metadata": {
    "collapsed": true
   },
   "outputs": [],
   "source": [
    "def gen_job(single_jobs=10, parallel_jobs=10, job_shops=5):\n",
    "    ret = []\n",
    "    job_names = set()\n",
    "    for i in range(single_jobs):\n",
    "        ret.append({\n",
    "            'name' : 'single' + str(i),\n",
    "            'job' : [{'3DP' : int(random.randint(1*60,3*60) * RATE)}]\n",
    "        })\n",
    "        job_names.add('single' + str(i))\n",
    "    for i in range(parallel_jobs):\n",
    "        ret.append({\n",
    "            'name' : 'parallel' + str(i),\n",
    "            'job' : ([{'3DP' : int(random.randint(1*60,3*60) * RATE)}],[{'3DP' : int(random.randint(1*60,3*60) * RATE)}])\n",
    "        })\n",
    "        job_names.add('parallel' + str(i))\n",
    "    for i in range(job_shops):\n",
    "        ret.append( {\n",
    "            \"name\" : 'clock' + str(i),\n",
    "            \"job\" : [ # job shop\n",
    "                (\n",
    "                    (\n",
    "                        [{'3DP': int(random.randint(1*60,3*60) * RATE) },{'CNC':int(random.randint(10,30) * RATE)}],\n",
    "                        [{'3DP': int(random.randint(1*60,3*60) * RATE) },{'CNC':int(random.randint(10,30) * RATE)}]\n",
    "                    ),\n",
    "                    [{'3DP': int(random.randint(1*60,3*60) * RATE)}]\n",
    "                ),\n",
    "                {'CNC' : int(random.randint(10,30) * RATE)},\n",
    "                {'Vapor' : int(random.randint(10,30) * RATE)}\n",
    "            ]\n",
    "        })\n",
    "        job_names.add('clock' + str(i))\n",
    "    return ret, job_names"
   ]
  },
  {
   "cell_type": "code",
   "execution_count": 5,
   "metadata": {},
   "outputs": [],
   "source": [
    "lit, job_names= gen_job()"
   ]
  },
  {
   "cell_type": "code",
   "execution_count": 6,
   "metadata": {
    "collapsed": true
   },
   "outputs": [],
   "source": [
    "def ret_list():\n",
    "    return tuple(lit)"
   ]
  },
  {
   "cell_type": "markdown",
   "metadata": {},
   "source": [
    "# append to factory"
   ]
  },
  {
   "cell_type": "code",
   "execution_count": 7,
   "metadata": {
    "collapsed": true
   },
   "outputs": [],
   "source": [
    "import factory_env"
   ]
  },
  {
   "cell_type": "code",
   "execution_count": 8,
   "metadata": {
    "collapsed": true
   },
   "outputs": [],
   "source": [
    "DAILY_CAPA = 8 * 60"
   ]
  },
  {
   "cell_type": "code",
   "execution_count": 9,
   "metadata": {
    "collapsed": true
   },
   "outputs": [],
   "source": [
    "env = factory_env.FactoryEnv(generate_job_func=ret_list, machine_map=\n",
    "                             {'3DP': (12, DAILY_CAPA), 'CNC':(1,DAILY_CAPA),'Vapor':(1,DAILY_CAPA)}, \n",
    "                             job_type='single', job_slot_num=5)"
   ]
  },
  {
   "cell_type": "code",
   "execution_count": 10,
   "metadata": {},
   "outputs": [
    {
     "data": {
      "text/plain": [
       "({'job': [{'3DP': 185}], 'name': 'single0'},\n",
       " {'job': [{'3DP': 182}], 'name': 'single1'},\n",
       " {'job': [{'3DP': 159}], 'name': 'single2'},\n",
       " {'job': [{'3DP': 150}], 'name': 'single3'},\n",
       " {'job': [{'3DP': 202}], 'name': 'single4'},\n",
       " {'job': [{'3DP': 171}], 'name': 'single5'},\n",
       " {'job': [{'3DP': 79}], 'name': 'single6'},\n",
       " {'job': [{'3DP': 152}], 'name': 'single7'},\n",
       " {'job': [{'3DP': 182}], 'name': 'single8'},\n",
       " {'job': [{'3DP': 148}], 'name': 'single9'},\n",
       " {'job': ([{'3DP': 131}], [{'3DP': 101}]), 'name': 'parallel0'},\n",
       " {'job': ([{'3DP': 136}], [{'3DP': 148}]), 'name': 'parallel1'},\n",
       " {'job': ([{'3DP': 174}], [{'3DP': 92}]), 'name': 'parallel2'},\n",
       " {'job': ([{'3DP': 166}], [{'3DP': 161}]), 'name': 'parallel3'},\n",
       " {'job': ([{'3DP': 193}], [{'3DP': 167}]), 'name': 'parallel4'},\n",
       " {'job': ([{'3DP': 187}], [{'3DP': 161}]), 'name': 'parallel5'},\n",
       " {'job': ([{'3DP': 228}], [{'3DP': 135}]), 'name': 'parallel6'},\n",
       " {'job': ([{'3DP': 153}], [{'3DP': 202}]), 'name': 'parallel7'},\n",
       " {'job': ([{'3DP': 218}], [{'3DP': 191}]), 'name': 'parallel8'},\n",
       " {'job': ([{'3DP': 139}], [{'3DP': 104}]), 'name': 'parallel9'},\n",
       " {'job': [(([{'3DP': 105}, {'CNC': 28}], [{'3DP': 105}, {'CNC': 37}]),\n",
       "    [{'3DP': 87}]),\n",
       "   {'CNC': 20},\n",
       "   {'Vapor': 27}],\n",
       "  'name': 'clock0'},\n",
       " {'job': [(([{'3DP': 150}, {'CNC': 23}], [{'3DP': 204}, {'CNC': 28}]),\n",
       "    [{'3DP': 140}]),\n",
       "   {'CNC': 37},\n",
       "   {'Vapor': 35}],\n",
       "  'name': 'clock1'},\n",
       " {'job': [(([{'3DP': 195}, {'CNC': 22}], [{'3DP': 145}, {'CNC': 13}]),\n",
       "    [{'3DP': 87}]),\n",
       "   {'CNC': 15},\n",
       "   {'Vapor': 28}],\n",
       "  'name': 'clock2'},\n",
       " {'job': [(([{'3DP': 94}, {'CNC': 27}], [{'3DP': 88}, {'CNC': 13}]),\n",
       "    [{'3DP': 78}]),\n",
       "   {'CNC': 29},\n",
       "   {'Vapor': 14}],\n",
       "  'name': 'clock3'},\n",
       " {'job': [(([{'3DP': 102}, {'CNC': 15}], [{'3DP': 139}, {'CNC': 31}]),\n",
       "    [{'3DP': 158}]),\n",
       "   {'CNC': 33},\n",
       "   {'Vapor': 28}],\n",
       "  'name': 'clock4'})"
      ]
     },
     "execution_count": 10,
     "metadata": {},
     "output_type": "execute_result"
    }
   ],
   "source": [
    "env.generate_job()"
   ]
  },
  {
   "cell_type": "markdown",
   "metadata": {},
   "source": [
    "# Online planning"
   ]
  },
  {
   "cell_type": "code",
   "execution_count": 11,
   "metadata": {
    "collapsed": true
   },
   "outputs": [],
   "source": [
    "import numpy as np"
   ]
  },
  {
   "cell_type": "code",
   "execution_count": 12,
   "metadata": {
    "collapsed": true
   },
   "outputs": [],
   "source": [
    "def FIFO(state, job_slot):\n",
    "    ## return action\n",
    "    selected_job_slot = 0\n",
    "    # select done job\n",
    "    for job_slot_num, slot in enumerate(job_slot):\n",
    "        if slot != [] and sum(state[-1][job_slot_num][1:]) != 0:\n",
    "            selected_job_slot = job_slot_num\n",
    "            break\n",
    "    # find allocate machine\n",
    "    job_capa = state[-1][job_slot_num][0]\n",
    "    job_slot_state = state[-1][job_slot_num][1:]\n",
    "    select_machine_num = 0\n",
    "    for count, i in enumerate(job_slot_state):\n",
    "        if i == 1:\n",
    "            select_machine_num = count\n",
    "            break\n",
    "    \n",
    "    action_space = np.zeros([len(job_slot), len(state[-1][0][1:])])\n",
    "    action_space[selected_job_slot][select_machine_num] = 1\n",
    "    \n",
    "    return action_space, selected_job_slot, select_machine_num"
   ]
  },
  {
   "cell_type": "code",
   "execution_count": 13,
   "metadata": {},
   "outputs": [
    {
     "data": {
      "text/plain": [
       "[[[185, '3DP', 'single0_0'],\n",
       "  [182, '3DP', 'single8_0'],\n",
       "  [174, '3DP', 'parallel2_0'],\n",
       "  [187, '3DP', 'parallel5_0'],\n",
       "  [202, '3DP', 'parallel7_0'],\n",
       "  [105, '3DP', 'clock0_0'],\n",
       "  [28, 'CNC', 'clock0_0'],\n",
       "  [145, '3DP', 'clock2_0'],\n",
       "  [13, 'CNC', 'clock2_0'],\n",
       "  [87, '3DP', 'clock2_1'],\n",
       "  [15, 'CNC', 'clock2_2'],\n",
       "  [28, 'Vapor', 'clock2_2']],\n",
       " [[182, '3DP', 'single1_0'],\n",
       "  [152, '3DP', 'single7_0'],\n",
       "  [136, '3DP', 'parallel1_0'],\n",
       "  [193, '3DP', 'parallel4_0'],\n",
       "  [135, '3DP', 'parallel6_0'],\n",
       "  [191, '3DP', 'parallel8_0'],\n",
       "  [195, '3DP', 'clock2_0'],\n",
       "  [22, 'CNC', 'clock2_0'],\n",
       "  [88, '3DP', 'clock3_0'],\n",
       "  [13, 'CNC', 'clock3_0'],\n",
       "  [78, '3DP', 'clock3_1'],\n",
       "  [29, 'CNC', 'clock3_2'],\n",
       "  [14, 'Vapor', 'clock3_2']],\n",
       " [[159, '3DP', 'single2_0'],\n",
       "  [79, '3DP', 'single6_0'],\n",
       "  [131, '3DP', 'parallel0_0'],\n",
       "  [92, '3DP', 'parallel2_0'],\n",
       "  [161, '3DP', 'parallel3_0'],\n",
       "  [228, '3DP', 'parallel6_0'],\n",
       "  [104, '3DP', 'parallel9_0'],\n",
       "  [105, '3DP', 'clock0_0'],\n",
       "  [37, 'CNC', 'clock0_0'],\n",
       "  [87, '3DP', 'clock0_1'],\n",
       "  [20, 'CNC', 'clock0_2'],\n",
       "  [27, 'Vapor', 'clock0_2'],\n",
       "  [102, '3DP', 'clock4_0'],\n",
       "  [15, 'CNC', 'clock4_0']],\n",
       " [[150, '3DP', 'single3_0'],\n",
       "  [171, '3DP', 'single5_0'],\n",
       "  [101, '3DP', 'parallel0_0'],\n",
       "  [166, '3DP', 'parallel3_0'],\n",
       "  [161, '3DP', 'parallel5_0'],\n",
       "  [218, '3DP', 'parallel8_0'],\n",
       "  [204, '3DP', 'clock1_0'],\n",
       "  [28, 'CNC', 'clock1_0'],\n",
       "  [140, '3DP', 'clock1_1'],\n",
       "  [37, 'CNC', 'clock1_2'],\n",
       "  [35, 'Vapor', 'clock1_2']],\n",
       " [[202, '3DP', 'single4_0'],\n",
       "  [148, '3DP', 'single9_0'],\n",
       "  [148, '3DP', 'parallel1_0'],\n",
       "  [167, '3DP', 'parallel4_0'],\n",
       "  [153, '3DP', 'parallel7_0'],\n",
       "  [139, '3DP', 'parallel9_0'],\n",
       "  [150, '3DP', 'clock1_0'],\n",
       "  [23, 'CNC', 'clock1_0'],\n",
       "  [94, '3DP', 'clock3_0'],\n",
       "  [27, 'CNC', 'clock3_0'],\n",
       "  [139, '3DP', 'clock4_0'],\n",
       "  [31, 'CNC', 'clock4_0'],\n",
       "  [158, '3DP', 'clock4_1'],\n",
       "  [33, 'CNC', 'clock4_2'],\n",
       "  [28, 'Vapor', 'clock4_2']]]"
      ]
     },
     "execution_count": 13,
     "metadata": {},
     "output_type": "execute_result"
    }
   ],
   "source": [
    "env.job_slots"
   ]
  },
  {
   "cell_type": "code",
   "execution_count": 14,
   "metadata": {},
   "outputs": [],
   "source": [
    "while not env._goal_test():\n",
    "    env._next_state(FIFO(env.get_state(), env.job_slots)[0])"
   ]
  },
  {
   "cell_type": "code",
   "execution_count": 15,
   "metadata": {},
   "outputs": [
    {
     "data": {
      "text/plain": [
       "[425,\n",
       " 289,\n",
       " 8,\n",
       " 32,\n",
       " 45,\n",
       " 10,\n",
       " 73,\n",
       " 2,\n",
       " 29,\n",
       " 43,\n",
       " 40,\n",
       " 143,\n",
       " 101,\n",
       " 74,\n",
       " [[0, 0, 0, 0, 0, 0, 0, 0, 0, 0, 0, 0, 0, 0, 0, 0],\n",
       "  [78, 0, 0, 0, 0, 0, 0, 0, 0, 0, 0, 0, 0, 0, 0],\n",
       "  [0, 0, 0, 0, 0, 0, 0, 0, 0, 0, 0, 0, 0, 0, 0, 0],\n",
       "  [140, 0, 0, 0, 0, 0, 0, 0, 0, 0, 0, 0, 0, 0, 0],\n",
       "  [148, 0, 0, 0, 0, 0, 0, 0, 0, 0, 0, 0, 0, 0, 0]]]"
      ]
     },
     "execution_count": 15,
     "metadata": {},
     "output_type": "execute_result"
    }
   ],
   "source": [
    "env.get_state()"
   ]
  },
  {
   "cell_type": "code",
   "execution_count": 16,
   "metadata": {
    "collapsed": true
   },
   "outputs": [],
   "source": [
    "def check_unfinished_job(slots):\n",
    "    unfinished_job = set()\n",
    "    for job_slot in slots:\n",
    "        for wait in job_slot:\n",
    "            unfinished_job.add(wait[-1].split('_')[0])\n",
    "    return unfinished_job"
   ]
  },
  {
   "cell_type": "code",
   "execution_count": 17,
   "metadata": {},
   "outputs": [
    {
     "data": {
      "text/plain": [
       "{'clock1',\n",
       " 'clock3',\n",
       " 'clock4',\n",
       " 'parallel1',\n",
       " 'parallel4',\n",
       " 'parallel7',\n",
       " 'parallel9',\n",
       " 'single9'}"
      ]
     },
     "execution_count": 17,
     "metadata": {},
     "output_type": "execute_result"
    }
   ],
   "source": [
    "check_unfinished_job(env.job_slots)"
   ]
  },
  {
   "cell_type": "code",
   "execution_count": 18,
   "metadata": {},
   "outputs": [
    {
     "name": "stdout",
     "output_type": "stream",
     "text": [
      "0\n",
      "10000\n",
      "20000\n",
      "30000\n",
      "40000\n",
      "50000\n",
      "60000\n",
      "70000\n",
      "80000\n",
      "90000\n"
     ]
    }
   ],
   "source": [
    "ret_li = []\n",
    "\n",
    "for i in range(100000):\n",
    "    lit, job_names= gen_job()\n",
    "    def ret_list():\n",
    "        return tuple(lit)\n",
    "    env = factory_env.FactoryEnv(generate_job_func=ret_list, machine_map=\n",
    "                             {'3DP': (12, DAILY_CAPA), 'CNC':(1,DAILY_CAPA),'Vapor':(1,DAILY_CAPA)}, \n",
    "                             job_type='single', job_slot_num=10)\n",
    "    while not env._goal_test():\n",
    "        env._next_state(FIFO(env.get_state(), env.job_slots)[0])\n",
    "    unfinished_job = check_unfinished_job(env.job_slots)\n",
    "    ret_li.append([{'3DP': (12, DAILY_CAPA), 'CNC':(1,DAILY_CAPA),'Vapor':(1,DAILY_CAPA)}, lit, job_names, unfinished_job])\n",
    "    if i%10000 == 0:\n",
    "        print(i)"
   ]
  },
  {
   "cell_type": "code",
   "execution_count": 19,
   "metadata": {
    "collapsed": true
   },
   "outputs": [],
   "source": [
    "import pickle"
   ]
  },
  {
   "cell_type": "code",
   "execution_count": 20,
   "metadata": {
    "collapsed": true
   },
   "outputs": [],
   "source": [
    "with open('plan_list.pkl', 'wb') as f:\n",
    "    pickle.dump(ret_li, f)"
   ]
  },
  {
   "cell_type": "code",
   "execution_count": 21,
   "metadata": {
    "collapsed": true
   },
   "outputs": [],
   "source": [
    "with open('plan_list.pkl', 'rb') as f:\n",
    "    plan_results = pickle.load(f)"
   ]
  }
 ],
 "metadata": {
  "kernelspec": {
   "display_name": "ml_py35",
   "language": "python",
   "name": "ml_py35"
  },
  "language_info": {
   "codemirror_mode": {
    "name": "ipython",
    "version": 3
   },
   "file_extension": ".py",
   "mimetype": "text/x-python",
   "name": "python",
   "nbconvert_exporter": "python",
   "pygments_lexer": "ipython3",
   "version": "3.5.4"
  }
 },
 "nbformat": 4,
 "nbformat_minor": 2
}
